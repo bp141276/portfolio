{
 "cells": [
  {
   "cell_type": "code",
   "execution_count": 1,
   "id": "fd428059-6b64-4fb6-8674-08d21d0286e9",
   "metadata": {},
   "outputs": [],
   "source": [
    "import pandas as pd\n",
    "import warnings"
   ]
  },
  {
   "cell_type": "code",
   "execution_count": 2,
   "id": "355fa058-c84a-40c5-abe0-69b5af9f8ae9",
   "metadata": {},
   "outputs": [],
   "source": [
    "pre_data = pd.read_csv('GlobalWeatherRepository.csv')"
   ]
  },
  {
   "cell_type": "code",
   "execution_count": 3,
   "id": "7c4685e4-09ff-4245-aff8-25bf7b5802a5",
   "metadata": {},
   "outputs": [],
   "source": [
    "pre_data_cleaned = pre_data[['country', 'location_name', 'timezone', 'last_updated', 'temperature_celsius', 'condition_text', 'pressure_mb', \n",
    "                               'humidity', 'feels_like_celsius', 'air_quality_PM2.5', 'air_quality_PM10']].copy()"
   ]
  },
  {
   "cell_type": "code",
   "execution_count": 4,
   "id": "a7c8744b-dc43-4a8f-8875-0bcf3133a693",
   "metadata": {},
   "outputs": [],
   "source": [
    "pre_data_cleaned.loc[:, 'pressure_hPa'] = pre_data_cleaned.loc[:, 'pressure_mb']     # 1 mb = 1 hPa (for better clarity)\n",
    "pre_data_cleaned.drop('pressure_mb', axis=1, inplace=True)"
   ]
  },
  {
   "cell_type": "code",
   "execution_count": 5,
   "id": "6fec22dd-1303-472d-8b78-b756b1a48364",
   "metadata": {},
   "outputs": [],
   "source": [
    "pre_data_cleaned['last_updated'] = pd.to_datetime(pre_data_cleaned['last_updated'], format='%Y-%m-%d %H:%M')\n",
    "pre_data_cleaned['date'] = pre_data_cleaned['last_updated'].dt.date\n",
    "pre_data_cleaned.sort_values(by=['country', 'location_name','last_updated'], ascending=True)\n",
    "idx = pre_data_cleaned.groupby(['country', 'location_name', 'date'])['last_updated'].idxmax()\n",
    "data = pre_data_cleaned.loc[idx].reset_index(drop=True)"
   ]
  },
  {
   "cell_type": "markdown",
   "id": "fc46b930-9405-40c7-818d-4d1bf9a72063",
   "metadata": {},
   "source": [
    "creating data frames for the chosen locations (by countries/cities when more than one city per country)"
   ]
  },
  {
   "cell_type": "code",
   "execution_count": 6,
   "id": "cb289e25-0d06-4bc5-a1ef-48e4bf199dab",
   "metadata": {},
   "outputs": [],
   "source": [
    "poland_data = data[data['country'] == 'Poland']"
   ]
  },
  {
   "cell_type": "code",
   "execution_count": 7,
   "id": "0472e281-ffc4-4994-ba0d-78bc057e2085",
   "metadata": {},
   "outputs": [],
   "source": [
    "mongolia_data = data[data['country'] == 'Mongolia']"
   ]
  },
  {
   "cell_type": "code",
   "execution_count": 8,
   "id": "7c13445a-d207-4be0-ac73-6e598ca9044b",
   "metadata": {},
   "outputs": [],
   "source": [
    "iceland_data = data[data['country'] == 'Iceland']"
   ]
  },
  {
   "cell_type": "code",
   "execution_count": 9,
   "id": "6a33a943-fc48-49b3-a136-135ebc27816a",
   "metadata": {},
   "outputs": [],
   "source": [
    "egypt_data = data[data['country'] == 'Egypt']"
   ]
  },
  {
   "cell_type": "code",
   "execution_count": 10,
   "id": "20215d20-702c-4f1f-83b3-c5f76b5e52e6",
   "metadata": {},
   "outputs": [],
   "source": [
    "thailand_data = data[data['location_name'] == 'Bangkok']"
   ]
  },
  {
   "cell_type": "code",
   "execution_count": 11,
   "id": "20134976-0dd4-4a9e-ada5-53f7e45a1a43",
   "metadata": {},
   "outputs": [],
   "source": [
    "uk_data = data[data['country'] == 'United Kingdom']"
   ]
  },
  {
   "cell_type": "markdown",
   "id": "b0e1d82d-f721-49c4-862d-243b86490592",
   "metadata": {},
   "source": [
    "for data visualisation I will use the R language"
   ]
  },
  {
   "cell_type": "markdown",
   "id": "b3a2f01e-bcdf-4f28-8362-379b6afdc229",
   "metadata": {},
   "source": [
    "simple temperature chart"
   ]
  },
  {
   "cell_type": "code",
   "execution_count": 18,
   "id": "3d1995ee-3952-49b9-931f-afa24f9f6c16",
   "metadata": {},
   "outputs": [],
   "source": [
    "warnings.filterwarnings(\"ignore\", module = \"rpy2\")"
   ]
  },
  {
   "cell_type": "code",
   "execution_count": 19,
   "id": "c8f48d5b-8c3d-4607-a63c-1d9c3bc3d5ee",
   "metadata": {},
   "outputs": [],
   "source": [
    "import rpy2.robjects as robjects\n",
    "from rpy2.robjects.conversion import localconverter\n",
    "from rpy2.robjects import pandas2ri\n",
    "from IPython.display import Image"
   ]
  },
  {
   "cell_type": "code",
   "execution_count": 15,
   "id": "5c81e0a2-5975-46c2-9fb1-d986e6ebafad",
   "metadata": {},
   "outputs": [],
   "source": [
    "with localconverter(robjects.default_converter + pandas2ri.converter):       #conversion to R\n",
    "    poland_r = robjects.conversion.py2rpy(poland_data)\n",
    "    iceland_r = robjects.conversion.py2rpy(iceland_data)\n",
    "    mongolia_r = robjects.conversion.py2rpy(mongolia_data)"
   ]
  },
  {
   "cell_type": "code",
   "execution_count": 16,
   "id": "14c9a26e-3357-41db-b67c-ee74b91857e3",
   "metadata": {},
   "outputs": [],
   "source": [
    "robjects.globalenv['poland_data'] = poland_r    #transfering to R\n",
    "robjects.globalenv['iceland_data'] = iceland_r\n",
    "robjects.globalenv['mongolia_data'] = mongolia_r"
   ]
  },
  {
   "cell_type": "code",
   "execution_count": 20,
   "id": "7891b61c-fd33-43d9-adb0-23477bfdd2b9",
   "metadata": {},
   "outputs": [
    {
     "data": {
      "image/png": "[encoded data removed]",
      "text/plain": [
       "<IPython.core.display.Image object>"
      ]
     },
     "execution_count": 20,
     "metadata": {},
     "output_type": "execute_result"
    }
   ],
   "source": [
    "robjects.r('''\n",
    "    temperature_data_1 <- rbind(poland_data, iceland_data, mongolia_data)\n",
    "    temperature_data_1$date <- as.Date(temperature_data_1$date)\n",
    "\n",
    "    Sys.setlocale(\"LC_TIME\", \"en_GB.UTF-8\")\n",
    "\n",
    "    library(ggplot2)\n",
    "    png(\"plot.png\", width=800, height=600)\n",
    "    p <- ggplot(temperature_data_1, aes(x = date, y = temperature_celsius, color = country)) +\n",
    "    geom_line() +\n",
    "    scale_color_brewer(palette = \"Set1\") +  \n",
    "    scale_x_date(date_breaks = \"1 month\", date_labels = \"%b %Y\") +  \n",
    "    labs(\n",
    "    x = \"Date\",          \n",
    "    y = \"Temperature [°C]\", \n",
    "    color = \"Country\"       \n",
    "    ) +\n",
    "    theme(\n",
    "    axis.text.x = element_text(angle = 45, hjust = 1),\n",
    "    panel.background = element_rect(fill = \"white\", color = \"white\"),\n",
    "    plot.background = element_rect(fill = \"white\", color = \"white\"),\n",
    "    panel.grid.major = element_line(color = \"grey90\"),\n",
    "    panel.grid.minor = element_line(color = \"grey90\"),\n",
    "    axis.line = element_line(color = \"black\")\n",
    "    )\n",
    "    print(p)\n",
    "    dev.off()\n",
    "    ''')\n",
    "Image(filename='plot.png')"
   ]
  },
  {
   "cell_type": "code",
   "execution_count": null,
   "id": "7dc18e31-6501-4d45-a5aa-8e0ffe4b3034",
   "metadata": {},
   "outputs": [],
   "source": []
  }
 ],
 "metadata": {
  "kernelspec": {
   "display_name": "Python 3 (ipykernel)",
   "language": "python",
   "name": "python3"
  },
  "language_info": {
   "codemirror_mode": {
    "name": "ipython",
    "version": 3
   },
   "file_extension": ".py",
   "mimetype": "text/x-python",
   "name": "python",
   "nbconvert_exporter": "python",
   "pygments_lexer": "ipython3",
   "version": "3.13.0"
  }
 },
 "nbformat": 4,
 "nbformat_minor": 5
}
